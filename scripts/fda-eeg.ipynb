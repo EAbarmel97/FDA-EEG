{
 "cells": [
  {
   "cell_type": "code",
   "execution_count": 1,
   "id": "b1afe090-238e-4559-a7ba-dce5fbf4534e",
   "metadata": {},
   "outputs": [],
   "source": [
    "import os \n",
    "import re\n",
    "\n",
    "import pyedflib\n",
    "import numpy as np \n",
    "import matplotlib.pyplot as plt\n",
    "\n",
    "#NOTE: dataset needs to be downloaded and unziped  \n",
    "\n",
    "#filter edf files\n",
    "eeg_signalfiles_names = list(filter(lambda s : s.endswith(\".edf\") , \n",
    "                            [os.path.abspath(os.path.join(\"../data/eeg-during-mental-arithmetic-tasks-1.0.0\", f)) for \n",
    "                            f in os.listdir(\"../data/eeg-during-mental-arithmetic-tasks-1.0.0\")]\n",
    "                        ))\n",
    "\n",
    "#dicts with subject_id - eeg_signal_filepath\n",
    "before_arith_task = {}\n",
    "after_arith_task = {}\n",
    "\n",
    "\n",
    "# process each file\n",
    "for edf_file_name in eeg_signalfiles_names :\n",
    "    file_name = os.path.basename(edf_file_name)\n",
    "    \n",
    "    # extract subject identifier and suffix\n",
    "    if \"_1.edf\" in file_name:\n",
    "        subject_id = int(re.findall(r\"\\d\\d\", file_name)[0])\n",
    "        before_arith_task[subject_id] = edf_file_name\n",
    "    \n",
    "    elif \"_2.edf\" in file_name:\n",
    "        subject_id = int(re.findall(r\"\\d\\d\", file_name)[0])\n",
    "        after_arith_task[subject_id] = edf_file_name"
   ]
  },
  {
   "cell_type": "code",
   "execution_count": 2,
   "id": "0009d0a3-3a2e-48e2-9348-714e31b907ff",
   "metadata": {},
   "outputs": [
    {
     "name": "stdout",
     "output_type": "stream",
     "text": [
      "21\n",
      "[-6.34791221e+00 -5.88470922e+00 -5.16095454e+00 ...  1.39021195e-03\n",
      "  1.39021195e-03  1.39021195e-03]\n"
     ]
    }
   ],
   "source": [
    "f = pyedflib.EdfReader(before_arith_task[1])\n",
    "print(f.signals_in_file) \n",
    "eeg_signal = f.readSignal(0)\n",
    "\n",
    "print(eeg_signal)"
   ]
  },
  {
   "cell_type": "code",
   "execution_count": null,
   "id": "1d5d6b5b-a61c-4084-ae0c-4a124e6cb596",
   "metadata": {},
   "outputs": [],
   "source": [
    "def read_eeg_from_edf(edf_file_path):\n",
    "    with pyedflib.EdfReadder(edf_file_path) as f:\n",
    "        num_signals = f.signals_in_file\n",
    "        \n",
    "        eeg_signals = []\n",
    "        eeg_labels = []\n",
    "        f.close()\n",
    "        return "
   ]
  },
  {
   "cell_type": "code",
   "execution_count": null,
   "id": "c075aa70-8264-486c-be9a-1222cceca668",
   "metadata": {},
   "outputs": [],
   "source": [
    "def concantenate_eeg_signals(subject_id_eeg_signal_filepath):\n",
    "    eeg_signal_matrix = []\n",
    "    for key in subject_id_eeg_signal_filepath.keys().sort():\n",
    "        #concatenate eeg signals\n",
    "        print(\"concatenation\")\n",
    "    return np.array(eeg_signal_matrix)\n",
    "\n",
    "#eeg raw data matrices \n",
    "eeg_data_matrix_before_arith_task = []\n",
    "\n",
    "eeg_data_matrix_after_arith_task = []"
   ]
  }
 ],
 "metadata": {
  "kernelspec": {
   "display_name": "Python (venv)",
   "language": "python",
   "name": "venv"
  },
  "language_info": {
   "codemirror_mode": {
    "name": "ipython",
    "version": 3
   },
   "file_extension": ".py",
   "mimetype": "text/x-python",
   "name": "python",
   "nbconvert_exporter": "python",
   "pygments_lexer": "ipython3",
   "version": "3.10.12"
  }
 },
 "nbformat": 4,
 "nbformat_minor": 5
}
