{
 "cells": [
  {
   "cell_type": "code",
   "execution_count": 1,
   "id": "b1afe090-238e-4559-a7ba-dce5fbf4534e",
   "metadata": {},
   "outputs": [],
   "source": [
    "import os \n",
    "import re\n",
    "\n",
    "import pyedflib\n",
    "import numpy as np \n",
    "import matplotlib.pyplot as plt\n",
    "\n",
    "import skfda\n",
    "#from skfda.representation.grid import FDataGrid\n",
    "#NOTE: dataset needs to be downloaded and unziped  \n",
    "\n",
    "#filter edf files\n",
    "eeg_signalfiles_names = list(filter(lambda s : s.endswith(\".edf\") , \n",
    "                            [os.path.abspath(os.path.join(\"../data/eeg-during-mental-arithmetic-tasks-1.0.0\", f)) for \n",
    "                            f in os.listdir(\"../data/eeg-during-mental-arithmetic-tasks-1.0.0\")]\n",
    "                        ))\n",
    "\n",
    "#dicts with subject_id - eeg_signal_filepath\n",
    "before_arith_task = {}\n",
    "after_arith_task = {}\n",
    "\n",
    "# process each file\n",
    "for edf_file_name in eeg_signalfiles_names :\n",
    "    file_name = os.path.basename(edf_file_name)\n",
    "    \n",
    "    # extract subject identifier and suffix\n",
    "    if \"_1.edf\" in file_name:\n",
    "        subject_id = int(re.findall(r\"\\d\\d\", file_name)[0])\n",
    "        before_arith_task[subject_id] = edf_file_name\n",
    "    \n",
    "    elif \"_2.edf\" in file_name:\n",
    "        subject_id = int(re.findall(r\"\\d\\d\", file_name)[0])\n",
    "        after_arith_task[subject_id] = edf_file_name"
   ]
  },
  {
   "cell_type": "code",
   "execution_count": 2,
   "id": "051534a4-ab34-4906-aa0a-71c5b13baac8",
   "metadata": {},
   "outputs": [
    {
     "name": "stdout",
     "output_type": "stream",
     "text": [
      "len of dict bat:  36\n",
      "len of dict aat:  36\n"
     ]
    }
   ],
   "source": [
    "print(\"len of dict bat: \",len(before_arith_task.keys()))\n",
    "print(\"len of dict aat: \",len(after_arith_task.keys()))"
   ]
  },
  {
   "cell_type": "code",
   "execution_count": 3,
   "id": "ca7bc167-ef3b-41b0-b583-4b1d5ed62fc1",
   "metadata": {},
   "outputs": [],
   "source": [
    "label_index_dict = {\"Fp1\":0,\"Fp2\":1,\"F3\":2,\"F4\":3,\"F7\":4,\"F8\":5,\"T3\":6,\"T4\":7,\"C3\":8,\n",
    "                    \"C4\":9,\"T5\":10,\"T6\":11,\"P3\":12,\"P4\":13,\"O1\":14,\"O2\":15,\"Fz\":16, \"Cz\":17,\"Pz\":18}"
   ]
  },
  {
   "cell_type": "code",
   "execution_count": 4,
   "id": "0009d0a3-3a2e-48e2-9348-714e31b907ff",
   "metadata": {},
   "outputs": [
    {
     "name": "stdout",
     "output_type": "stream",
     "text": [
      "file name: /home/enki/Documents/THESIS/FDA-EEG/data/eeg-during-mental-arithmetic-tasks-1.0.0/Subject00_1.edf\n",
      "signals in file: 21\n",
      "label: EEG Fp1 fs: 500.0 nsamples 91000\n",
      "label: EEG Fp2 fs: 500.0 nsamples 91000\n",
      "label: EEG F3 fs: 500.0 nsamples 91000\n",
      "label: EEG F4 fs: 500.0 nsamples 91000\n",
      "label: EEG F7 fs: 500.0 nsamples 91000\n",
      "label: EEG F8 fs: 500.0 nsamples 91000\n",
      "label: EEG T3 fs: 500.0 nsamples 91000\n",
      "label: EEG T4 fs: 500.0 nsamples 91000\n",
      "label: EEG C3 fs: 500.0 nsamples 91000\n",
      "label: EEG C4 fs: 500.0 nsamples 91000\n",
      "label: EEG T5 fs: 500.0 nsamples 91000\n",
      "label: EEG T6 fs: 500.0 nsamples 91000\n",
      "label: EEG P3 fs: 500.0 nsamples 91000\n",
      "label: EEG P4 fs: 500.0 nsamples 91000\n",
      "label: EEG O1 fs: 500.0 nsamples 91000\n",
      "label: EEG O2 fs: 500.0 nsamples 91000\n",
      "label: EEG Fz fs: 500.0 nsamples 91000\n",
      "label: EEG Cz fs: 500.0 nsamples 91000\n",
      "label: EEG Pz fs: 500.0 nsamples 91000\n",
      "label: EEG A2-A1 fs: 500.0 nsamples 91000\n",
      "label: ECG ECG fs: 500.0 nsamples 91000\n",
      "None\n",
      "\n",
      "eeg signal number 0:  [7.08614378e+00 9.15961782e+00 1.17677937e+01 ... 9.14483406e-04\n",
      " 9.14483406e-04 9.14483406e-04]\n"
     ]
    }
   ],
   "source": [
    "f = pyedflib.EdfReader(before_arith_task[0])\n",
    "#print edf file metadata\n",
    "print(f.file_info_long())\n",
    "eeg_signal = f.readSignal(label_index_dict.get(\"P4\", None))\n",
    "f.close()\n",
    "print()\n",
    "print(\"eeg signal number 0: \", eeg_signal)"
   ]
  },
  {
   "cell_type": "code",
   "execution_count": 6,
   "id": "1d5d6b5b-a61c-4084-ae0c-4a124e6cb596",
   "metadata": {},
   "outputs": [],
   "source": [
    "def eeg_data_matrix(subject_idx, subject_edfsignal_dict, labels):\n",
    "    #label-index map\n",
    "    label_index_dict = {\"Fp1\":0,\"Fp2\":1,\"F3\":2,\"F4\":3,\"F7\":4,\"F8\":5,\"T3\":6,\"T4\":7,\"C3\":8,\n",
    "                    \"C4\":9,\"T5\":10,\"T6\":11,\"P3\":12,\"P4\":13,\"O1\":14,\"O2\":15,\"Fz\":16, \"Cz\":17,\"Pz\":18}\n",
    "    #check if there's a edf file for a given subject index\n",
    "    if subject_edfsignal_dict.get(subject_idx,-1) == -1:\n",
    "        raise KeyError\n",
    "    #build data matrix\n",
    "    with pyedflib.EdfReader(subject_edfsignal_dict[subject_idx]) as f:\n",
    "        eeg_signals_arr = []\n",
    "        for label in labels:\n",
    "            idx = label_index_dict.get(label,-1)\n",
    "            if idx == -1:\n",
    "               raise KeyError\n",
    "            eeg_signal = f.readSignal(idx)\n",
    "            eeg_signals_arr.append(eeg_signal)\n",
    "        f.close()\n",
    "        return np.matrix(eeg_signals_arr)"
   ]
  },
  {
   "cell_type": "code",
   "execution_count": 7,
   "id": "76f358f9-209e-41ba-b91a-f53774eb8a25",
   "metadata": {},
   "outputs": [
    {
     "name": "stdout",
     "output_type": "stream",
     "text": [
      "data :  [[-6.34791221e+00 -5.88470922e+00 -5.16095454e+00 ...  1.39021195e-03\n",
      "   1.39021195e-03  1.39021195e-03]\n",
      " [-6.71995401e+00 -6.25268698e+00 -5.50295629e+00 ...  5.77824979e-04\n",
      "   5.77824979e-04  5.77824979e-04]\n",
      " [-5.61789152e+00 -5.75924681e+00 -5.68246122e+00 ...  1.41752346e-03\n",
      "   1.41752346e-03  1.41752346e-03]\n",
      " ...\n",
      " [-3.57152858e+00 -3.90513513e+00 -4.15791191e+00 ... -3.21821012e-04\n",
      "  -3.21821012e-04 -3.21821012e-04]\n",
      " [-5.23125354e+00 -6.30394179e+00 -7.29497765e+00 ... -6.97556420e-04\n",
      "  -6.97556420e-04 -6.97556420e-04]\n",
      " [-6.41279333e+00 -6.48198043e+00 -6.30901266e+00 ...  1.84008240e-03\n",
      "   1.84008240e-03  1.84008240e-03]]\n"
     ]
    }
   ],
   "source": [
    "all_labels = list(label_index_dict.keys())\n",
    "data = eeg_data_matrix(1,before_arith_task,all_labels)\n",
    "print(\"data : \", data)"
   ]
  },
  {
   "cell_type": "code",
   "execution_count": null,
   "id": "4a42bbef-1369-48a9-9284-c167918e0946",
   "metadata": {},
   "outputs": [],
   "source": [
    "#raw eeg-signals transformed into functional data using \n",
    "#B-splines basis functions\n",
    "fd = skfda.FDataGrid(\n",
    "            data_matrix=data,\n",
    "            grid_points=np.linspace(0,91000)/500\n",
    "        )\n"
   ]
  }
 ],
 "metadata": {
  "kernelspec": {
   "display_name": "Python (venv)",
   "language": "python",
   "name": "venv"
  },
  "language_info": {
   "codemirror_mode": {
    "name": "ipython",
    "version": 3
   },
   "file_extension": ".py",
   "mimetype": "text/x-python",
   "name": "python",
   "nbconvert_exporter": "python",
   "pygments_lexer": "ipython3",
   "version": "3.10.12"
  }
 },
 "nbformat": 4,
 "nbformat_minor": 5
}
