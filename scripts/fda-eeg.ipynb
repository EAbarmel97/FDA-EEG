{
 "cells": [
  {
   "cell_type": "code",
   "execution_count": 1,
   "id": "b1afe090-238e-4559-a7ba-dce5fbf4534e",
   "metadata": {},
   "outputs": [],
   "source": [
    "import os \n",
    "import re\n",
    "\n",
    "import pyedflib\n",
    "import numpy as np \n",
    "import matplotlib.pyplot as plt\n",
    "import skfda\n",
    "\n",
    "#NOTE: dataset needs to be downloaded and unziped  \n",
    "\n",
    "#filter edf files\n",
    "eeg_signalfiles_names = list(filter(lambda s : s.endswith(\".edf\") , \n",
    "                            [os.path.abspath(os.path.join(\"../data/eeg-during-mental-arithmetic-tasks-1.0.0\", f)) for \n",
    "                            f in os.listdir(\"../data/eeg-during-mental-arithmetic-tasks-1.0.0\")]\n",
    "                        ))\n",
    "\n",
    "#dicts with subject_id - eeg_signal_filepath\n",
    "before_arith_task = {}\n",
    "after_arith_task = {}\n",
    "\n",
    "# process each file\n",
    "for edf_file_name in eeg_signalfiles_names :\n",
    "    file_name = os.path.basename(edf_file_name)\n",
    "    \n",
    "    # extract subject identifier and suffix\n",
    "    if \"_1.edf\" in file_name:\n",
    "        subject_id = int(re.findall(r\"\\d\\d\", file_name)[0])\n",
    "        before_arith_task[subject_id] = edf_file_name\n",
    "    \n",
    "    elif \"_2.edf\" in file_name:\n",
    "        subject_id = int(re.findall(r\"\\d\\d\", file_name)[0])\n",
    "        after_arith_task[subject_id] = edf_file_name"
   ]
  },
  {
   "cell_type": "code",
   "execution_count": 2,
   "id": "0009d0a3-3a2e-48e2-9348-714e31b907ff",
   "metadata": {},
   "outputs": [
    {
     "name": "stdout",
     "output_type": "stream",
     "text": [
      "file name: /home/enki/Documents/THESIS/FDA-EEG/data/eeg-during-mental-arithmetic-tasks-1.0.0/Subject00_1.edf\n",
      "signals in file: 21\n",
      "label: EEG Fp1 fs: 500.0 nsamples 91000\n",
      "label: EEG Fp2 fs: 500.0 nsamples 91000\n",
      "label: EEG F3 fs: 500.0 nsamples 91000\n",
      "label: EEG F4 fs: 500.0 nsamples 91000\n",
      "label: EEG F7 fs: 500.0 nsamples 91000\n",
      "label: EEG F8 fs: 500.0 nsamples 91000\n",
      "label: EEG T3 fs: 500.0 nsamples 91000\n",
      "label: EEG T4 fs: 500.0 nsamples 91000\n",
      "label: EEG C3 fs: 500.0 nsamples 91000\n",
      "label: EEG C4 fs: 500.0 nsamples 91000\n",
      "label: EEG T5 fs: 500.0 nsamples 91000\n",
      "label: EEG T6 fs: 500.0 nsamples 91000\n",
      "label: EEG P3 fs: 500.0 nsamples 91000\n",
      "label: EEG P4 fs: 500.0 nsamples 91000\n",
      "label: EEG O1 fs: 500.0 nsamples 91000\n",
      "label: EEG O2 fs: 500.0 nsamples 91000\n",
      "label: EEG Fz fs: 500.0 nsamples 91000\n",
      "label: EEG Cz fs: 500.0 nsamples 91000\n",
      "label: EEG Pz fs: 500.0 nsamples 91000\n",
      "label: EEG A2-A1 fs: 500.0 nsamples 91000\n",
      "label: ECG ECG fs: 500.0 nsamples 91000\n",
      "None\n",
      "\n",
      "eeg signal number 0:  [-3.64793763e+00 -4.23648168e+00 -4.95421832e+00 ...  1.35446677e-03\n",
      "  1.35446677e-03  1.35446677e-03]\n"
     ]
    }
   ],
   "source": [
    "f = pyedflib.EdfReader(before_arith_task[0])\n",
    "#print edf file metadata\n",
    "print(f.file_info_long())\n",
    "eeg_signal = f.readSignal(0)\n",
    "f.close()\n",
    "print()\n",
    "print(\"eeg signal number 0: \", eeg_signal)"
   ]
  },
  {
   "cell_type": "code",
   "execution_count": 3,
   "id": "1d5d6b5b-a61c-4084-ae0c-4a124e6cb596",
   "metadata": {},
   "outputs": [],
   "source": [
    "def eeg_data_matrix(subject_idx, subject_edfsignal_dict):\n",
    "    #check if there's a edf file for a given subject index\n",
    "    if subject_edfsignal_dict.get(subject_idx,-1) == -1:\n",
    "        raise KeyError\n",
    "    #build data matrix\n",
    "    with pyedflib.EdfReader(subject_edfsignal_dict[subject_idx]) as f:\n",
    "        eeg_signals_arr = []\n",
    "        for idx in range(f.signals_in_file-1):\n",
    "            eeg_signal = f.readSignal(idx)\n",
    "            eeg_signals_arr.append(eeg_signal)\n",
    "        f.close()\n",
    "        return np.matrix(eeg_signals_arr)\n",
    "        \n",
    "#raw eeg-signals transformed into functional data using \n",
    "#B-splines basis functions\n",
    "def data_2_funcdata(data_matrix):\n",
    "    freqs = []\n",
    "    fd = skfda.FDataGrid(\n",
    "            data_matrix=data_matrix,\n",
    "            grid_points=freqs\n",
    "        )\n",
    "    \n",
    "    return None"
   ]
  }
 ],
 "metadata": {
  "kernelspec": {
   "display_name": "Python (venv)",
   "language": "python",
   "name": "venv"
  },
  "language_info": {
   "codemirror_mode": {
    "name": "ipython",
    "version": 3
   },
   "file_extension": ".py",
   "mimetype": "text/x-python",
   "name": "python",
   "nbconvert_exporter": "python",
   "pygments_lexer": "ipython3",
   "version": "3.10.12"
  }
 },
 "nbformat": 4,
 "nbformat_minor": 5
}
