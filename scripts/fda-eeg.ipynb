{
 "cells": [
  {
   "cell_type": "code",
   "execution_count": null,
   "id": "b1afe090-238e-4559-a7ba-dce5fbf4534e",
   "metadata": {},
   "outputs": [],
   "source": [
    "import os \n",
    "import re\n",
    "\n",
    "import pyedflib\n",
    "import numpy as np \n",
    "import matplotlib.pyplot as plt\n",
    "\n",
    "import skfda\n",
    "import skfda.representation.basis as basis\n",
    "from skfda.exploratory.visualization import FPCAPlot\n",
    "from skfda.preprocessing.dim_reduction import FPCA\n",
    "from skfda.representation.basis import BSplineBasis\n",
    "from skfda.representation.interpolation import SplineInterpolation\n",
    "\n",
    "from scipy import stats \n",
    "\n",
    "#NOTE: dataset needs to be downloaded and unziped  \n",
    "\n",
    "#filter edf files\n",
    "eeg_signalfiles_names = list(filter(lambda s : s.endswith(\".edf\") , \n",
    "                            [os.path.abspath(os.path.join(\"../data/eeg-during-mental-arithmetic-tasks-1.0.0\", f)) for \n",
    "                            f in os.listdir(\"../data/eeg-during-mental-arithmetic-tasks-1.0.0\")]\n",
    "                        ))\n",
    "\n",
    "#dicts with subject_id - eeg_signal_filepath\n",
    "before_arith_task = {}\n",
    "after_arith_task = {}\n",
    "\n",
    "# process each file\n",
    "for edf_file_name in eeg_signalfiles_names :\n",
    "    file_name = os.path.basename(edf_file_name)\n",
    "    \n",
    "    # extract subject identifier and suffix\n",
    "    if \"_1.edf\" in file_name:\n",
    "        subject_id = int(re.findall(r\"\\d\\d\", file_name)[0])\n",
    "        before_arith_task[subject_id] = edf_file_name\n",
    "    \n",
    "    elif \"_2.edf\" in file_name:\n",
    "        subject_id = int(re.findall(r\"\\d\\d\", file_name)[0])\n",
    "        after_arith_task[subject_id] = edf_file_name"
   ]
  },
  {
   "cell_type": "code",
   "execution_count": null,
   "id": "051534a4-ab34-4906-aa0a-71c5b13baac8",
   "metadata": {},
   "outputs": [],
   "source": [
    "print(\"len of dict bat: \",len(before_arith_task.keys()))\n",
    "print(\"len of dict aat: \",len(after_arith_task.keys()))"
   ]
  },
  {
   "cell_type": "code",
   "execution_count": null,
   "id": "ca7bc167-ef3b-41b0-b583-4b1d5ed62fc1",
   "metadata": {},
   "outputs": [],
   "source": [
    "label_index_dict = {\"Fp1\":0,\"Fp2\":1,\"F3\":2,\"F4\":3,\"F7\":4,\"F8\":5,\"T3\":6,\"T4\":7,\"C3\":8,\n",
    "                    \"C4\":9,\"T5\":10,\"T6\":11,\"P3\":12,\"P4\":13,\"O1\":14,\"O2\":15,\"Fz\":16, \"Cz\":17,\"Pz\":18}"
   ]
  },
  {
   "cell_type": "code",
   "execution_count": null,
   "id": "0009d0a3-3a2e-48e2-9348-714e31b907ff",
   "metadata": {},
   "outputs": [],
   "source": [
    "f = pyedflib.EdfReader(after_arith_task[10])\n",
    "#print edf file metadata\n",
    "print(f.file_info_long())\n",
    "eeg_signal = f.readSignal(label_index_dict.get(\"P4\", None))\n",
    "\n",
    "f.close()\n",
    "print()\n",
    "print(\"eeg signal number 0: \", eeg_signal)"
   ]
  },
  {
   "cell_type": "code",
   "execution_count": null,
   "id": "1d5d6b5b-a61c-4084-ae0c-4a124e6cb596",
   "metadata": {},
   "outputs": [],
   "source": [
    "def eeg_data_matrix(subject_idx, subject_edfsignal_dict, labels):\n",
    "    \"\"\"\n",
    "    concatenate all eeg signals for contructing a \n",
    "    \"\"\"\n",
    "    if subject_edfsignal_dict.get(subject_idx,-1) == -1:\n",
    "        raise KeyError\n",
    "    #build data matrix\n",
    "    with pyedflib.EdfReader(subject_edfsignal_dict[subject_idx]) as f:\n",
    "        eeg_signals_arr = []\n",
    "        for label in labels:\n",
    "            idx = label_index_dict.get(label,-1)\n",
    "            if idx == -1:\n",
    "               raise KeyError\n",
    "            eeg_signal = f.readSignal(idx)\n",
    "            eeg_signals_arr.append(eeg_signal)\n",
    "        f.close()\n",
    "        return np.matrix(eeg_signals_arr)"
   ]
  },
  {
   "cell_type": "code",
   "execution_count": null,
   "id": "19ac4d33-49ed-4720-9a5d-4837cf5b9b4a",
   "metadata": {},
   "outputs": [],
   "source": []
  },
  {
   "cell_type": "code",
   "execution_count": null,
   "id": "76f358f9-209e-41ba-b91a-f53774eb8a25",
   "metadata": {},
   "outputs": [],
   "source": [
    "all_labels = list(label_index_dict.keys())\n",
    "data = eeg_data_matrix(10,after_arith_task,all_labels)\n",
    "print(\"data : \", data)"
   ]
  },
  {
   "cell_type": "code",
   "execution_count": null,
   "id": "4a42bbef-1369-48a9-9284-c167918e0946",
   "metadata": {},
   "outputs": [],
   "source": [
    "#raw eeg-signals transformed into functional data using \n",
    "#B-splines basis functions\n",
    "\n",
    "fd = skfda.FDataGrid(\n",
    "            data_matrix=data,\n",
    "            grid_points=np.linspace(0,31000,31000)/500\n",
    "        )\n",
    "n_basis = 19\n",
    "\n",
    "fd.plot()"
   ]
  },
  {
   "cell_type": "code",
   "execution_count": null,
   "id": "8d8ebec9-6e60-41ed-9982-4315b109436d",
   "metadata": {},
   "outputs": [],
   "source": [
    "#plot b-spline basis\n",
    "bspline_basis = skfda.representation.basis.BSplineBasis(n_basis=n_basis)\n",
    "bspline_basis.plot()\n",
    "plt.show()"
   ]
  },
  {
   "cell_type": "code",
   "execution_count": null,
   "id": "a06bd509-1dae-46d5-9fcc-73514d3f46bc",
   "metadata": {},
   "outputs": [],
   "source": [
    "#plot of the eeg signals converted to functional data\n",
    "fd_basis = fd.to_basis(basis.BSplineBasis(n_basis=n_basis))\n",
    "\n",
    "fd_basis.plot()"
   ]
  },
  {
   "cell_type": "code",
   "execution_count": null,
   "id": "0cf89530-15b2-4c86-9e8d-c7a204bf60c1",
   "metadata": {},
   "outputs": [],
   "source": [
    "fpca = FPCA(n_basis)\n",
    "fpca.fit(fd_basis)\n",
    "fpca.components_.plot()\n",
    "\n",
    "eigvals = np.square(fpca.singular_values_)\n",
    "print(\"singular vals: \", eigvals)"
   ]
  },
  {
   "cell_type": "code",
   "execution_count": null,
   "id": "03f1830e-dcba-4e9d-aba3-528744872560",
   "metadata": {},
   "outputs": [],
   "source": [
    "#compute here intercept and slope\n"
   ]
  },
  {
   "cell_type": "code",
   "execution_count": null,
   "id": "a9dcd0dc-ad43-47fd-9d42-70c7a104579f",
   "metadata": {},
   "outputs": [],
   "source": [
    "#plot truncated eigspectrum\n"
   ]
  },
  {
   "cell_type": "code",
   "execution_count": null,
   "id": "de6a77ab-cbf1-414e-b39e-b7acde84c90f",
   "metadata": {},
   "outputs": [],
   "source": [
    "# r2 and KS test\n"
   ]
  }
 ],
 "metadata": {
  "kernelspec": {
   "display_name": "Python (venv)",
   "language": "python",
   "name": "venv"
  },
  "language_info": {
   "codemirror_mode": {
    "name": "ipython",
    "version": 3
   },
   "file_extension": ".py",
   "mimetype": "text/x-python",
   "name": "python",
   "nbconvert_exporter": "python",
   "pygments_lexer": "ipython3",
   "version": "3.9.21"
  }
 },
 "nbformat": 4,
 "nbformat_minor": 5
}
