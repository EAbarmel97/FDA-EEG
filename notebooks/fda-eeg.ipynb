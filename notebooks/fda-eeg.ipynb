{
 "cells": [
  {
   "cell_type": "code",
   "execution_count": 1,
   "id": "b1afe090-238e-4559-a7ba-dce5fbf4534e",
   "metadata": {},
   "outputs": [],
   "source": [
    "import os \n",
    "\n",
    "import pyedflib\n",
    "import numpy as np \n",
    "\n",
    "#dataset needs to be downloaded and unziped  \n",
    "eeg_signalfiles_names = os.listdir(\"../data/eeg-during-mental-arithmetic-tasks-1.0.0\")\n",
    "\n",
    "before_arith_task = []\n",
    "\n",
    "after_arith_task = []\n"
   ]
  },
  {
   "cell_type": "code",
   "execution_count": null,
   "id": "c075aa70-8264-486c-be9a-1222cceca668",
   "metadata": {},
   "outputs": [],
   "source": []
  }
 ],
 "metadata": {
  "kernelspec": {
   "display_name": "Python (venv)",
   "language": "python",
   "name": "venv"
  },
  "language_info": {
   "codemirror_mode": {
    "name": "ipython",
    "version": 3
   },
   "file_extension": ".py",
   "mimetype": "text/x-python",
   "name": "python",
   "nbconvert_exporter": "python",
   "pygments_lexer": "ipython3",
   "version": "3.10.12"
  }
 },
 "nbformat": 4,
 "nbformat_minor": 5
}
